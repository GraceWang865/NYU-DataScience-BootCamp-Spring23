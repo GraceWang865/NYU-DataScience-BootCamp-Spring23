{
  "nbformat": 4,
  "nbformat_minor": 0,
  "metadata": {
    "colab": {
      "provenance": [],
      "toc_visible": true
    },
    "kernelspec": {
      "name": "python3",
      "display_name": "Python 3"
    },
    "language_info": {
      "name": "python"
    }
  },
  "cells": [
    {
      "cell_type": "markdown",
      "source": [
        "## Week 4 : Data Visualization\n",
        "\n",
        "*Author: Kartik Jindgar*\n",
        "\n",
        "\n",
        "---\n",
        "\n",
        "\n",
        "\n",
        "In this guided practice lab you will use Pandas, Matplotlib, and Seaborn to create simple plots.\n",
        "\n",
        "We'll cover plotting line plots, scatter plots, bar plots, and histograms, and how to manipulate the style of your plots with Matplotlib."
      ],
      "metadata": {
        "id": "D47YhOUgRkr6"
      }
    },
    {
      "cell_type": "markdown",
      "source": [
        "## Introduction\n",
        "\n",
        "In this lab, we will introduce how plotting works in Pandas and Matplotlib. It is important to know that Pandas uses Matplotlib behind the scenes to make plots. So, you will notice that Pandas plotting methods often use similar parameter names as Matplotlib methods. Further, you can use Matplotlib functions in combination with Pandas methods to alter the plots after drawing them. For example, you can use Matplotlib's `xlabel` and `title` functions to label the plot's x-axis and title, respectively, after it is drawn.\n",
        "\n",
        "As we explore different types of plots, notice:\n",
        "\n",
        "1. Different types of plots are drawn very similarly -- they even tend to share parameter names.\n",
        "2. In Pandas, calling `plot()` on a `DataFrame` is different than calling it on a `Series`. Although the methods are both named `plot`, they may take different parameters.\n",
        "\n",
        "Toward the end of the lab, we will show some motivational plots using Seaborn, a popular statistics plotting library, as well as go more in-depth about how Matplotlib works."
      ],
      "metadata": {
        "id": "-VQNniFGSUhL"
      }
    },
    {
      "cell_type": "markdown",
      "source": [
        "### Pandas Plotting Documentation\n",
        "\n",
        "[Link to Documentation](https://pandas.pydata.org/pandas-docs/stable/reference/api/pandas.DataFrame.plot.html)\n"
      ],
      "metadata": {
        "id": "AMHmIs88Sadq"
      }
    },
    {
      "cell_type": "code",
      "execution_count": 2,
      "metadata": {
        "id": "jDya9sJARjTD"
      },
      "outputs": [],
      "source": [
        "from IPython.display import HTML\n",
        "\n",
        "import pandas as pd\n",
        "import numpy as np\n",
        "import seaborn as sns\n",
        "import matplotlib.pyplot as plt\n",
        "\n",
        "plt.style.use('fivethirtyeight')\n",
        "%matplotlib inline\n",
        "\n",
        "# Increase default figure and font sizes for easier viewing.\n",
        "plt.rcParams['figure.figsize'] = (8, 6)\n",
        "plt.rcParams['font.size'] = 14"
      ]
    },
    {
      "cell_type": "markdown",
      "source": [
        "Creating dummy data for examples"
      ],
      "metadata": {
        "id": "p52GmbccSmpT"
      }
    },
    {
      "cell_type": "code",
      "source": [
        "df = pd.DataFrame(np.random.randn(10, 4), \n",
        "                  columns=['col1', 'col2', 'col3', 'col4'],\n",
        "                  index=['a', 'b', 'c', 'd', 'e', 'f', 'g', 'h', 'i', 'j'])"
      ],
      "metadata": {
        "id": "d8xQ1yUTSX4b"
      },
      "execution_count": 3,
      "outputs": []
    },
    {
      "cell_type": "markdown",
      "source": [
        "Loading other datasets that will be used in this notebook"
      ],
      "metadata": {
        "id": "HF3DIefoXA1g"
      }
    },
    {
      "cell_type": "code",
      "source": [
        "# Read in the Boston housing data.\n",
        "housing_csv = '../boston_housing_data.csv'\n",
        "housing = pd.read_csv(housing_csv)\n",
        "\n",
        "# Read in the drinks data.\n",
        "drink_cols = ['country', 'beer', 'spirit', 'wine', 'liters', 'continent']\n",
        "url = '../drinks.csv'\n",
        "drinks = pd.read_csv(url, header=0, names=drink_cols, na_filter=False)\n",
        "\n",
        "# Read in the ufo data.\n",
        "ufo = pd.read_csv('../ufo.csv')\n",
        "ufo['Time'] = pd.to_datetime(ufo.Time)\n",
        "ufo['Year'] = ufo.Time.dt.year"
      ],
      "metadata": {
        "id": "LtCBMq30W-jh"
      },
      "execution_count": 14,
      "outputs": []
    },
    {
      "cell_type": "markdown",
      "source": [
        "Line Plot with dummy data"
      ],
      "metadata": {
        "id": "Ux-95UOxTK5U"
      }
    },
    {
      "cell_type": "code",
      "source": [
        "df.plot()"
      ],
      "metadata": {
        "id": "nTSAHOmwSsMh"
      },
      "execution_count": null,
      "outputs": []
    },
    {
      "cell_type": "markdown",
      "source": [
        "How to change the size of a plot"
      ],
      "metadata": {
        "id": "GnxCQYSETSpt"
      }
    },
    {
      "cell_type": "code",
      "source": [
        "df.plot(figsize=(15,8)) #(width, height)"
      ],
      "metadata": {
        "id": "8vXZwNo9S4Yj"
      },
      "execution_count": null,
      "outputs": []
    },
    {
      "cell_type": "markdown",
      "source": [
        "How to change the color of a plot\n",
        "\n",
        "\n",
        "Useful [link](https://pandas.pydata.org/docs/dev/reference/api/pandas.DataFrame.plot.line.html) to understand the different possible ways you can set color values for different columns of the dataframe"
      ],
      "metadata": {
        "id": "oXsIJB3zTwUD"
      }
    },
    {
      "cell_type": "code",
      "source": [
        "df['col1'].plot(color='crimson', figsize=(16,8));"
      ],
      "metadata": {
        "id": "yeqZyWjMTlzD"
      },
      "execution_count": null,
      "outputs": []
    },
    {
      "cell_type": "markdown",
      "source": [
        "How to change the style of individual plots"
      ],
      "metadata": {
        "id": "sfvL2hLxVuCN"
      }
    },
    {
      "cell_type": "code",
      "source": [
        "# : - dotted line, v - triangle_down\n",
        "# r - red, b - blue\n",
        "df[['col1', 'col4']].plot(figsize=(15,7), style={'col1': ':r', 'col4': 'vb'});"
      ],
      "metadata": {
        "id": "EL8auF8ITyIV"
      },
      "execution_count": null,
      "outputs": []
    },
    {
      "cell_type": "markdown",
      "source": [
        "Practice problem"
      ],
      "metadata": {
        "id": "nhPSf1mXWQxZ"
      }
    },
    {
      "cell_type": "markdown",
      "source": [
        "Create a line plot of ZN and INDUS in the housing data.\n",
        "- For ZN, use a solid green line. For INDUS, use a blue dashed line.\n",
        "- Change the figure size to a width of 12 and height of 8.\n",
        "- Change the style sheet to something you find [here](https://tonysyu.github.io/raw_content/matplotlib-style-gallery/gallery.html)."
      ],
      "metadata": {
        "id": "crFnBov1V9uV"
      }
    },
    {
      "cell_type": "markdown",
      "source": [
        "## Bar Plots: Show a numerical comparison across different categories"
      ],
      "metadata": {
        "id": "AF2DCOdEWWK4"
      }
    },
    {
      "cell_type": "code",
      "source": [
        "# Count the number of countries in each continent."
      ],
      "metadata": {
        "id": "2Ep_jreXV021"
      },
      "execution_count": 19,
      "outputs": []
    },
    {
      "cell_type": "code",
      "source": [
        "drinks.continent.value_counts()"
      ],
      "metadata": {
        "id": "XwAHEWvpXcyq"
      },
      "execution_count": null,
      "outputs": []
    },
    {
      "cell_type": "code",
      "source": [
        "# Compare with bar plot.\n",
        "drinks.continent.value_counts().plot(kind='bar');"
      ],
      "metadata": {
        "id": "JemnLtFbXdgu"
      },
      "execution_count": null,
      "outputs": []
    },
    {
      "cell_type": "code",
      "source": [
        "# Calculate the mean alcohol amounts for each continent."
      ],
      "metadata": {
        "id": "6gc2mI7cXhBY"
      },
      "execution_count": 22,
      "outputs": []
    },
    {
      "cell_type": "code",
      "source": [
        "drinks.groupby('continent').mean()"
      ],
      "metadata": {
        "id": "VmnTymbBXkwN"
      },
      "execution_count": null,
      "outputs": []
    },
    {
      "cell_type": "code",
      "source": [
        "# Side-by-side bar plots\n",
        "drinks.groupby('continent').mean().plot(kind='bar');"
      ],
      "metadata": {
        "id": "gMmUibGNXlOP"
      },
      "execution_count": null,
      "outputs": []
    },
    {
      "cell_type": "code",
      "source": [
        "# Sort the continent x-axis by a particular column.\n",
        "drinks.groupby('continent').mean().sort_values('beer').plot(kind='bar');"
      ],
      "metadata": {
        "id": "amlglW6RXo_5"
      },
      "execution_count": null,
      "outputs": []
    },
    {
      "cell_type": "code",
      "source": [
        "# Stacked bar plot (with the liters comparison removed!)\n",
        "drinks.groupby('continent').mean().drop('liters', axis=1).plot(kind='bar', stacked=True);"
      ],
      "metadata": {
        "id": "8s-lEmSpXtyY"
      },
      "execution_count": null,
      "outputs": []
    },
    {
      "cell_type": "markdown",
      "source": [
        "Using a `DataFrame` and Matplotlib commands, we can get fancy."
      ],
      "metadata": {
        "id": "zR_RAuD_YHC6"
      }
    },
    {
      "cell_type": "code",
      "source": [
        "ax = df.plot(kind='bar', figsize=(15,3));\n",
        "\n",
        "# Set the title.\n",
        "ax.set_title('Some Kinda Plot Thingy', fontsize=21,y=1);\n",
        "\n",
        "# Move the legend.\n",
        "ax.legend(loc=1);\n",
        "\n",
        "# x-axis labels\n",
        "ax.set_ylabel('y-axis info', fontsize=16);\n",
        "\n",
        "# y-axis labels\n",
        "ax.set_xlabel('x-axis info', fontsize=16);"
      ],
      "metadata": {
        "id": "0BMTf-fSX1_i"
      },
      "execution_count": null,
      "outputs": []
    },
    {
      "cell_type": "markdown",
      "source": [
        "Practice Problem\n",
        "\n",
        "Create a bar chart using `col1` and `col2`.\n",
        "\n",
        "- Give the plot a large title of your choosing. \n",
        "- Move the legend to the lower-left corner.\n",
        "- Do the same thing but with horizontal bars.\n",
        "- Move the legend to the upper-right corner."
      ],
      "metadata": {
        "id": "5wBMlejOYo68"
      }
    },
    {
      "cell_type": "markdown",
      "source": [
        "## Histograms : Show the distribution of a numerical variable"
      ],
      "metadata": {
        "id": "OkBLZ2xJY0nM"
      }
    },
    {
      "cell_type": "code",
      "source": [
        "# Sort the beer column and mentally split it into three groups.\n",
        "drinks.beer.sort_values().values"
      ],
      "metadata": {
        "id": "66FEH4KcYF5f"
      },
      "execution_count": null,
      "outputs": []
    },
    {
      "cell_type": "code",
      "source": [
        "# Compare the above with histogram.\n",
        "# About how many of the points above are in the groups 1-125, 125-250, and 250-376?\n",
        "drinks.beer.plot(kind='hist', bins=3);"
      ],
      "metadata": {
        "id": "SdKPxWUJY6t4"
      },
      "execution_count": null,
      "outputs": []
    },
    {
      "cell_type": "code",
      "source": [
        "# Try more bins — it takes the range of the data and divides it into 20 evenly spaced bins.\n",
        "drinks.beer.plot(kind='hist', bins=20);\n",
        "plt.xlabel('Beer Servings');\n",
        "plt.ylabel('Frequency');"
      ],
      "metadata": {
        "id": "Mh7qy6LvY953"
      },
      "execution_count": null,
      "outputs": []
    },
    {
      "cell_type": "code",
      "source": [
        "# Compare with density plot (smooth version of a histogram).\n",
        "drinks.beer.plot(kind='density', xlim=(0, 500));"
      ],
      "metadata": {
        "id": "cbGSrFVUZGyi"
      },
      "execution_count": null,
      "outputs": []
    },
    {
      "cell_type": "code",
      "source": [
        "# Making histograms of DataFrames — histogram of random data\n",
        "df.hist(figsize=(16,8));"
      ],
      "metadata": {
        "id": "m6zwzcNGZJNN"
      },
      "execution_count": null,
      "outputs": []
    },
    {
      "cell_type": "markdown",
      "source": [
        "Single **Histogram**"
      ],
      "metadata": {
        "id": "_5_hComAZcur"
      }
    },
    {
      "cell_type": "code",
      "source": [
        "norm = np.random.standard_normal(5000)\n",
        "pd.Series(norm).hist(figsize=(16,4), bins=50);"
      ],
      "metadata": {
        "id": "weKMgWT8ZVOu"
      },
      "execution_count": null,
      "outputs": []
    },
    {
      "cell_type": "code",
      "source": [
        "pd.Series(norm).hist(figsize=(16,4), bins=20)"
      ],
      "metadata": {
        "id": "-3uCB3HTZ9wI"
      },
      "execution_count": null,
      "outputs": []
    },
    {
      "cell_type": "markdown",
      "source": [
        "Practice Problem\n",
        "\n",
        "Create a histogram with pandas for using MEDV in the housing data.\n",
        "- Set the bins to 20"
      ],
      "metadata": {
        "id": "aCzck5UWZ1qQ"
      }
    },
    {
      "cell_type": "markdown",
      "source": [
        "## Grouped Histograms: Show one histogram for each group"
      ],
      "metadata": {
        "id": "cvAKXT2iaZ6j"
      }
    },
    {
      "cell_type": "code",
      "source": [
        "# Reminder: Overall histogram of beer servings\n",
        "drinks.beer.plot(kind='hist');"
      ],
      "metadata": {
        "id": "tvddZ_f6Ze_M"
      },
      "execution_count": null,
      "outputs": []
    },
    {
      "cell_type": "code",
      "source": [
        "# Histogram of beer servings grouped by continent -- how might these graphs be misleading?\n",
        "drinks.hist(column='beer', by='continent');"
      ],
      "metadata": {
        "id": "gdz7iWFcaLEm"
      },
      "execution_count": null,
      "outputs": []
    },
    {
      "cell_type": "code",
      "source": [
        "# Share the x- and y-axes.\n",
        "drinks.hist(column='beer', by='continent', sharex=True, sharey=True, layout=(2, 3));"
      ],
      "metadata": {
        "id": "9fhHMrgnaNM-"
      },
      "execution_count": null,
      "outputs": []
    },
    {
      "cell_type": "markdown",
      "source": [
        "## Box Plots: Show quartiles (and outliers) for one or more numerical variables"
      ],
      "metadata": {
        "id": "0LbKhWjvarCr"
      }
    },
    {
      "cell_type": "markdown",
      "source": [
        "---\n",
        "\n",
        "We can use boxplots to quickly summarize distributions.\n",
        "\n",
        "**Five-number summary:**\n",
        "\n",
        "- min = minimum value\n",
        "- 25% = first quartile (Q1) = median of the lower half of the data\n",
        "- 50% = second quartile (Q2) = median of the data\n",
        "- 75% = third quartile (Q3) = median of the upper half of the data\n",
        "- max = maximum value\n",
        "\n",
        "(It's more useful than mean and standard deviation for describing skewed distributions.)\n",
        "\n",
        "**Interquartile Range (IQR)** = Q3 - Q1\n",
        "\n",
        "**Outliers:**\n",
        "\n",
        "- below Q1 - 1.5 * IQR\n",
        "- above Q3 + 1.5 * IQR"
      ],
      "metadata": {
        "id": "0gOW6SMYa2Bf"
      }
    },
    {
      "cell_type": "code",
      "source": [
        "df.boxplot()"
      ],
      "metadata": {
        "id": "ITpbQsXCa0cR"
      },
      "execution_count": null,
      "outputs": []
    },
    {
      "cell_type": "code",
      "source": [
        "# Sort the spirit column.\n",
        "drinks.spirit.sort_values().values"
      ],
      "metadata": {
        "id": "zMVfrqQ3a8yO"
      },
      "execution_count": null,
      "outputs": []
    },
    {
      "cell_type": "code",
      "source": [
        "# Show \"five-number summary\" for spirit.\n",
        "drinks.spirit.describe()"
      ],
      "metadata": {
        "id": "vLJ-c1zPbDdQ"
      },
      "execution_count": null,
      "outputs": []
    },
    {
      "cell_type": "code",
      "source": [
        "# Compare with box plot.\n",
        "drinks.spirit.plot(kind='box');"
      ],
      "metadata": {
        "id": "0EI__-zzbFE2"
      },
      "execution_count": null,
      "outputs": []
    },
    {
      "cell_type": "code",
      "source": [
        "# Include multiple variables.\n",
        "drinks.drop('liters', axis=1).plot(kind='box');"
      ],
      "metadata": {
        "id": "NI6ZOR-abG_j"
      },
      "execution_count": null,
      "outputs": []
    },
    {
      "cell_type": "markdown",
      "source": [
        "How to use a box plot to preview the distributions in the housing data"
      ],
      "metadata": {
        "id": "a0y2qlhdbZq9"
      }
    },
    {
      "cell_type": "code",
      "source": [
        "housing.boxplot()"
      ],
      "metadata": {
        "id": "QuLi9gJ8bMG6"
      },
      "execution_count": null,
      "outputs": []
    },
    {
      "cell_type": "markdown",
      "source": [
        "## Grouped box plots: Show one box plot for each group"
      ],
      "metadata": {
        "id": "RA5a0Q_ubl8m"
      }
    },
    {
      "cell_type": "code",
      "source": [
        "# Reminder: box plot of beer servings\n",
        "drinks.beer.plot(kind='box');"
      ],
      "metadata": {
        "id": "YVzdOfqbbg43"
      },
      "execution_count": null,
      "outputs": []
    },
    {
      "cell_type": "code",
      "source": [
        "# Box plot of beer servings grouped by continent\n",
        "drinks.boxplot(column='beer', by='continent');"
      ],
      "metadata": {
        "id": "_V1Gd5QpbreV"
      },
      "execution_count": null,
      "outputs": []
    },
    {
      "cell_type": "code",
      "source": [
        "# Box plot of all numeric columns grouped by continent\n",
        "drinks.boxplot(by='continent');"
      ],
      "metadata": {
        "id": "UC7u2H5SbtG-"
      },
      "execution_count": null,
      "outputs": []
    },
    {
      "cell_type": "markdown",
      "source": [
        "## Scatter plots: Show the relatioship between two numerical variables"
      ],
      "metadata": {
        "id": "bCusWjRwb4PR"
      }
    },
    {
      "cell_type": "code",
      "source": [
        "# Select the beer and wine columns and sort by beer.\n",
        "drinks[['beer', 'wine']].sort_values('beer').values"
      ],
      "metadata": {
        "id": "raVFxEicbwtm"
      },
      "execution_count": null,
      "outputs": []
    },
    {
      "cell_type": "code",
      "source": [
        "# Compare with scatter plot.\n",
        "drinks.plot(kind='scatter', x='beer', y='wine');"
      ],
      "metadata": {
        "id": "BNeVEFXOb-Ls"
      },
      "execution_count": null,
      "outputs": []
    },
    {
      "cell_type": "code",
      "source": [
        "# Add transparency (great for plotting several graphs on top of each other, or for illustrating density!).\n",
        "drinks.plot(kind='scatter', x='beer', y='wine', alpha=0.3);"
      ],
      "metadata": {
        "id": "TC9Adxq2cA4Y"
      },
      "execution_count": null,
      "outputs": []
    },
    {
      "cell_type": "code",
      "source": [
        "# Vary point color by spirit servings.\n",
        "drinks.plot(kind='scatter', x='beer', y='wine', c='spirit', colormap='Blues');"
      ],
      "metadata": {
        "id": "3gueX498cDYB"
      },
      "execution_count": null,
      "outputs": []
    },
    {
      "cell_type": "code",
      "source": [
        "# Scatter matrix of three numerical columns\n",
        "pd.plotting.scatter_matrix(drinks[['beer', 'spirit', 'wine']], figsize=(10, 8));"
      ],
      "metadata": {
        "id": "1w3cuLx4cIF7"
      },
      "execution_count": null,
      "outputs": []
    },
    {
      "cell_type": "markdown",
      "source": [
        "Plotting ```DataFrames```"
      ],
      "metadata": {
        "id": "DlUzGlk9cfnr"
      }
    },
    {
      "cell_type": "code",
      "source": [
        "df.plot(x='col3', y='col4', kind='scatter', color='dodgerblue',figsize=(15,7), s=250)"
      ],
      "metadata": {
        "id": "d1CbMoCQcV1o"
      },
      "execution_count": null,
      "outputs": []
    },
    {
      "cell_type": "markdown",
      "source": [
        "How to view the association between the variables `ZN` and `INDUS` using a scatter plot"
      ],
      "metadata": {
        "id": "YzsbdWF-c9UN"
      }
    },
    {
      "cell_type": "code",
      "source": [
        "housing.plot(x='ZN', y='INDUS', kind='scatter', \n",
        "           color='dodgerblue', figsize=(15,7), s=100);"
      ],
      "metadata": {
        "id": "JzugYW9hcnuu"
      },
      "execution_count": null,
      "outputs": []
    },
    {
      "cell_type": "markdown",
      "source": [
        "How to use a list comprehension to change the size of the scatter plot dots based on `DIS`"
      ],
      "metadata": {
        "id": "ZBQxlSUjdEwO"
      }
    },
    {
      "cell_type": "code",
      "source": [
        "# This list comprehension sets the point sizes ('s') to be the squares of the values in housing['DIS']\n",
        "housing.plot(x='ZN', y='INDUS', kind='scatter', \n",
        "           color='dodgerblue', figsize=(15,7), s=[x**2 for x in housing['DIS']]);"
      ],
      "metadata": {
        "id": "7vmVQl1sc0x4"
      },
      "execution_count": null,
      "outputs": []
    },
    {
      "cell_type": "markdown",
      "source": [
        "<a id=\"seaborn\"></a>\n",
        "## Seaborn `pairplot`\n",
        "\n",
        "---\n",
        "\n",
        "\n",
        "With the `DataFrame` object `housing`, we will render a pairplot using the Seaborn library.\n",
        "What do each of the elements represent? Is this more or less useful than the previous plot?"
      ],
      "metadata": {
        "id": "bocBYchfe9Za"
      }
    },
    {
      "cell_type": "code",
      "source": [
        "sns.pairplot(housing)"
      ],
      "metadata": {
        "id": "RV3FU8ItdIcu"
      },
      "execution_count": null,
      "outputs": []
    },
    {
      "cell_type": "markdown",
      "source": [
        "## Seaborn `heatmap`\n",
        "---\n",
        "\n",
        "When you have too many variables, a pairplot or scatter matrix can become impossible to read. We can still gauge linear correlation using a heatmap of the correlation matrix."
      ],
      "metadata": {
        "id": "1HBg1fpEe7hQ"
      }
    },
    {
      "cell_type": "code",
      "source": [
        "# Make a heatmap on the correlations between variables in the housing data:\n",
        "housing_correlations = housing.corr();\n",
        "sns.heatmap(housing_correlations);"
      ],
      "metadata": {
        "id": "2OZP4vEZdWmr"
      },
      "execution_count": null,
      "outputs": []
    },
    {
      "cell_type": "markdown",
      "source": [
        "Practice Problem\n",
        "\n",
        "Create a scatter plot of two heatmap entries that appear to have a very positive correlation."
      ],
      "metadata": {
        "id": "IlX6aM1ifQr0"
      }
    },
    {
      "cell_type": "markdown",
      "source": [
        "Practice Problem\n",
        "\n",
        "Now, create a scatter plot of two heatmap entries that appear to have negative correlation."
      ],
      "metadata": {
        "id": "3p_9R_Q6fdj6"
      }
    },
    {
      "cell_type": "markdown",
      "source": [
        "## Optional section Understanding Matplotlib\n",
        "\n",
        "---\n",
        "\n",
        "- Matplotlib uses a blank canvas called a figure\n",
        "- Within this canvas, we can obtain smaller objects called axes\n",
        "- Pandas allows us to plot to a specified axes if we pass the object to the ax parameter\n"
      ],
      "metadata": {
        "id": "98ar4UamfiEK"
      }
    },
    {
      "cell_type": "code",
      "source": [
        "fig = plt.subplots(1,1, figsize=(16,8));"
      ],
      "metadata": {
        "id": "hMvHf5LxeoeR"
      },
      "execution_count": null,
      "outputs": []
    },
    {
      "cell_type": "code",
      "source": [
        "fig, axes = plt.subplots(2,3, figsize=(16,8));"
      ],
      "metadata": {
        "id": "oAiRqpPAf_v-"
      },
      "execution_count": null,
      "outputs": []
    },
    {
      "cell_type": "code",
      "source": [
        "fig, axes = plt.subplots(2,3, figsize=(16,8))\n",
        "df.plot(ax=axes[0][0]);\n",
        "df['col1'].plot(ax=axes[0][1]);\n",
        "df['col2'].plot(ax=axes[1][1]);"
      ],
      "metadata": {
        "id": "y-fkOhzRgBZa"
      },
      "execution_count": null,
      "outputs": []
    },
    {
      "cell_type": "markdown",
      "source": [
        "Using a bit more customization"
      ],
      "metadata": {
        "id": "3gvgmIJWgJQL"
      }
    },
    {
      "cell_type": "code",
      "source": [
        "fig, axes = plt.subplots(2,2, figsize=(16,8))\n",
        "\n",
        "# We can change the ticks' size.\n",
        "df['col2'].plot(figsize=(16,4), color='purple', fontsize=21, ax=axes[0][0])\n",
        "\n",
        "# We can also change which ticks are visible.\n",
        "# Let's show only the even ticks. ('idx % 2 == 0' only if 'idx' is even.)\n",
        "ticks_to_show = [idx for idx, _ in enumerate(df['col2'].index) if idx % 2 == 0]\n",
        "df['col2'].plot(figsize=(16,4), color='purple', xticks=ticks_to_show, fontsize=16, ax=axes[0][1])\n",
        "\n",
        "# We can change the label rotation.\n",
        "df.plot(figsize=(15,7), title='Big Rotated Labels - Tiny Title',\\\n",
        "        fontsize=20, rot=-50, ax=axes[1][0])\\\n",
        "\n",
        "# We have to use \".set_title()\" to fix title size.\n",
        "df.plot(figsize=(16,8), fontsize=20, rot=-50, ax=axes[1][1])\\\n",
        "       .set_title('Better-Sized Title', fontsize=21, y=1.01);"
      ],
      "metadata": {
        "id": "nFtBhzjdgDbM"
      },
      "execution_count": null,
      "outputs": []
    },
    {
      "cell_type": "markdown",
      "source": [
        "##Saving a plot to a file"
      ],
      "metadata": {
        "id": "J9QL0tLIgU5-"
      }
    },
    {
      "cell_type": "code",
      "source": [
        "drinks.beer.plot(kind='hist', bins=20, title='Histogram of Beer Servings');\n",
        "plt.xlabel('Beer Servings');\n",
        "plt.ylabel('Frequency');\n",
        "plt.savefig('beer_histogram.png');    # Save to file!"
      ],
      "metadata": {
        "id": "gwVVESdYgLpf"
      },
      "execution_count": null,
      "outputs": []
    },
    {
      "cell_type": "markdown",
      "source": [
        "## Thank You!"
      ],
      "metadata": {
        "id": "CbIPg-NJir27"
      }
    }
  ]
}
